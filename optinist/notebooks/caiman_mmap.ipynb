{
 "cells": [
  {
   "cell_type": "code",
   "execution_count": null,
   "id": "82d3a692",
   "metadata": {},
   "outputs": [],
   "source": [
    "import os\n",
    "import numpy as np\n",
    "import matplotlib.pyplot as plt\n",
    "from datetime import datetime\n",
    "from dateutil.tz import tzlocal\n",
    "\n",
    "# caiman\n",
    "import caiman as cm\n",
    "from caiman.paths import caiman_datadir\n",
    "from caiman.utils.utils import download_demo\n",
    "from caiman.source_extraction.cnmf import params as params\n",
    "from caiman.motion_correction import MotionCorrect\n",
    "from caiman.source_extraction.cnmf import cnmf as cnmf"
   ]
  },
  {
   "cell_type": "code",
   "execution_count": null,
   "id": "85017d8a",
   "metadata": {},
   "outputs": [],
   "source": [
    "# motion_correction parameter\n",
    "dxy = (2., 2.)  # spatial resolution in x and y in (um per pixel)\n",
    "# note the lower than usual spatial resolution here\n",
    "max_shift_um = (12., 12.)  # maximum shift in um\n",
    "patch_motion_um = (100., 100.)  # patch size for non-rigid correction in um\n",
    "pw_rigid = True       # flag to select rigid vs pw_rigid motion correction\n",
    "# maximum allowed rigid shift in pixels\n",
    "max_shifts = [int(a/b) for a, b in zip(max_shift_um, dxy)]\n",
    "# start a new patch for pw-rigid motion correction every x pixels\n",
    "strides = tuple([int(a/b) for a, b in zip(patch_motion_um, dxy)])\n",
    "# overlap between patches (size of patch in pixels: strides+overlaps)\n",
    "overlaps = (24, 24)\n",
    "# maximum deviation allowed for patch with respect to rigid shifts\n",
    "max_deviation_rigid = 3\n",
    "\n",
    "fnames = [os.path.join(\n",
    "    caiman_datadir(), \n",
    "    'example_movies',\n",
    "    'Sue_2x_3000_40_-46.tif'\n",
    ")]\n",
    "# estimates save path can be same or different from raw data path\n",
    "\n",
    "save_path = os.path.join(\n",
    "    caiman_datadir(), \n",
    "    'example_movies',\n",
    "    'Sue_2x_3000_40_-46_CNMF_estimates.nwb'\n",
    ")\n",
    "# filename to be created or processed\n",
    "\n",
    "# dataset dependent parameters\n",
    "fr = 15.  # imaging rate in frames per second\n",
    "decay_time = 0.4  # length of a typical transient in seconds\n",
    "\n",
    "mc_dict = {\n",
    "    'fnames': fnames,\n",
    "    'fr': fr,\n",
    "    'decay_time': decay_time,\n",
    "    'dxy': dxy,\n",
    "    'pw_rigid': pw_rigid,\n",
    "    'max_shifts': max_shifts,\n",
    "    'strides': strides,\n",
    "    'overlaps': overlaps,\n",
    "    'max_deviation_rigid': max_deviation_rigid,\n",
    "    'border_nan': 'copy',\n",
    "    #'var_name_hdf5': 'acquisition/TwoPhotonSeries'\n",
    "    'var_name_hdf5': 'TwoPhotonSeries'\n",
    "}\n",
    "\n",
    "opts = params.CNMFParams(params_dict=mc_dict)"
   ]
  },
  {
   "cell_type": "code",
   "execution_count": null,
   "id": "6c7db699",
   "metadata": {},
   "outputs": [],
   "source": [
    "opts"
   ]
  },
  {
   "cell_type": "markdown",
   "id": "2111b3f2",
   "metadata": {},
   "source": [
    "### motion correction"
   ]
  },
  {
   "cell_type": "code",
   "execution_count": null,
   "id": "168688ed",
   "metadata": {},
   "outputs": [],
   "source": [
    "c, dview, n_processes = cm.cluster.setup_cluster(\n",
    "    backend='local', n_processes=None, single_thread=False)"
   ]
  },
  {
   "cell_type": "code",
   "execution_count": null,
   "id": "38b8e7a0",
   "metadata": {},
   "outputs": [],
   "source": [
    "param = opts.get_group('motion')\n",
    "# param['pw_rigid'] = False\n",
    "\n",
    "mc = MotionCorrect(\n",
    "    fnames, \n",
    "    dview=dview, \n",
    "    var_name_hdf5=opts.data['var_name_hdf5'], \n",
    "    **param\n",
    ")\n",
    "mc.motion_correct(save_movie=True)"
   ]
  },
  {
   "cell_type": "code",
   "execution_count": null,
   "id": "b37a39d8",
   "metadata": {},
   "outputs": [],
   "source": [
    "# %% MEMORY MAPPING\n",
    "border_to_0 = 0 if mc.border_nan == 'copy' else mc.border_to_0\n",
    "# you can include the boundaries of the FOV if you used the 'copy' option\n",
    "# during motion correction, although be careful about the components near\n",
    "# the boundaries\n",
    "\n",
    "# memory map the file in order 'C'\n",
    "fname_new = cm.save_memmap(\n",
    "    mc.mmap_file, base_name='memmap_', order='C',\n",
    "    border_to_0=border_to_0)  # exclude borders\n",
    "\n",
    "# now load the file\n",
    "Yr, dims, T = cm.load_memmap(fname_new)   # (3000, 28900)\n",
    "images = np.array(np.reshape(Yr.T, [T] + list(dims), order='F'))"
   ]
  },
  {
   "cell_type": "code",
   "execution_count": null,
   "id": "f13931c9",
   "metadata": {},
   "outputs": [],
   "source": [
    "print(dims, ' ', T, ' ', images.shape)"
   ]
  },
  {
   "cell_type": "markdown",
   "id": "803369f8",
   "metadata": {},
   "source": [
    "### CNMF"
   ]
  },
  {
   "cell_type": "code",
   "execution_count": null,
   "id": "90902985",
   "metadata": {},
   "outputs": [],
   "source": [
    "decay_time = 0.4\n",
    "p = 1\n",
    "nb = 2\n",
    "only_init = True           # has to be `False` when seeded CNMF is used\n",
    "gSig = (7, 7)               # expected half size of neurons in pixels, very important for proper component detection\n",
    "ssub = 1\n",
    "tsub = 1\n",
    "merge_thr = 0.85\n",
    "\n",
    "# params object\n",
    "opts_dict = {\n",
    "    'decay_time': decay_time,\n",
    "    'p': p,\n",
    "    'nb': nb,\n",
    "    'only_init': only_init,\n",
    "    'gSig': gSig,\n",
    "    'ssub': ssub,\n",
    "    'tsub': tsub,\n",
    "    'merge_thr': merge_thr\n",
    "}\n",
    "\n",
    "opts = params.CNMFParams(params_dict=opts_dict)"
   ]
  },
  {
   "cell_type": "code",
   "execution_count": null,
   "id": "8b9f0ccb",
   "metadata": {},
   "outputs": [],
   "source": [
    "# dims, T = cm.source_extraction.cnmf.utilities.get_file_size(fname, var_name_hdf5=var_name_hdf5)\n",
    "# z = np.zeros(dims)\n",
    "# dims = z[indices].shape\n",
    "dims = (170, 170)\n",
    "T = 3000\n",
    "order = 'C'\n",
    "shape_mov = (np.prod(dims), T)\n",
    "fname_tot = cm.paths.memmap_frames_filename('aa', dims, T, order)\n",
    "mmap_images = np.memmap(fname_tot, mode='w+', dtype=np.float32,\n",
    "          shape=cm.mmapping.prepare_shape(shape_mov), order=order)\n",
    "\n",
    "mmap_images = np.reshape(mmap_images.T, [T] + list(dims), order='F')\n",
    "# mmap_images[:] = images[:]"
   ]
  },
  {
   "cell_type": "code",
   "execution_count": null,
   "id": "9fb5ead4",
   "metadata": {},
   "outputs": [],
   "source": [
    "cnm = cnmf.CNMF(n_processes, params=opts, dview=dview)\n",
    "cnm = cnm.fit(mmap_images)"
   ]
  },
  {
   "cell_type": "code",
   "execution_count": null,
   "id": "c904cbaf",
   "metadata": {},
   "outputs": [],
   "source": []
  },
  {
   "cell_type": "code",
   "execution_count": null,
   "id": "16f27cc0",
   "metadata": {},
   "outputs": [],
   "source": []
  },
  {
   "cell_type": "code",
   "execution_count": null,
   "id": "0c0c459e",
   "metadata": {},
   "outputs": [],
   "source": [
    "# %% plot contours of found components\n",
    "Cn = cm.local_correlations(mmap_images, swap_dim=False)\n",
    "Cn[np.isnan(Cn)] = 0\n",
    "cnm.estimates.plot_contours(img=Cn)\n",
    "plt.title('Contour plots of found components')\n",
    "\n",
    "#%% save results in a separate file (just for demonstration purposes)\n",
    "cnm.estimates.Cn = Cn\n",
    "# cnm.save(fname_new[:-4]+'hdf5')\n",
    "#cm.movie(Cn).save(fname_new[:-5]+'_Cn.tif'"
   ]
  },
  {
   "cell_type": "markdown",
   "id": "4e8141af",
   "metadata": {},
   "source": [
    "### wrapperを使用する"
   ]
  },
  {
   "cell_type": "code",
   "execution_count": null,
   "id": "adff1aa1",
   "metadata": {},
   "outputs": [],
   "source": [
    "import sys\n",
    "sys.path.append('..')\n",
    "from wrappers.data_wrapper import *\n",
    "from wrappers.caiman_wrapper import *"
   ]
  },
  {
   "cell_type": "code",
   "execution_count": null,
   "id": "e7120a97",
   "metadata": {},
   "outputs": [],
   "source": [
    "arr = np.zeros((3, 300, 300))\n",
    "arr.shape"
   ]
  },
  {
   "cell_type": "code",
   "execution_count": null,
   "id": "70dd923b",
   "metadata": {},
   "outputs": [],
   "source": [
    "wrapper_image = ImageData(arr)"
   ]
  },
  {
   "cell_type": "code",
   "execution_count": null,
   "id": "e4344896",
   "metadata": {},
   "outputs": [],
   "source": [
    "wrapper_image.data"
   ]
  },
  {
   "cell_type": "code",
   "execution_count": null,
   "id": "27f18fda",
   "metadata": {},
   "outputs": [],
   "source": []
  },
  {
   "cell_type": "code",
   "execution_count": null,
   "id": "a2359b4d",
   "metadata": {},
   "outputs": [],
   "source": [
    "info = caiman_mc(ImageData(fnames[0]))"
   ]
  },
  {
   "cell_type": "code",
   "execution_count": null,
   "id": "b6cdd652",
   "metadata": {},
   "outputs": [],
   "source": [
    "caiman_cnmf(info['images'])"
   ]
  },
  {
   "cell_type": "code",
   "execution_count": null,
   "id": "38ea1d87",
   "metadata": {},
   "outputs": [],
   "source": []
  },
  {
   "cell_type": "code",
   "execution_count": null,
   "id": "3b1d4258",
   "metadata": {},
   "outputs": [],
   "source": []
  }
 ],
 "metadata": {
  "kernelspec": {
   "display_name": "Python 3",
   "language": "python",
   "name": "python3"
  },
  "language_info": {
   "codemirror_mode": {
    "name": "ipython",
    "version": 3
   },
   "file_extension": ".py",
   "mimetype": "text/x-python",
   "name": "python",
   "nbconvert_exporter": "python",
   "pygments_lexer": "ipython3",
   "version": "3.9.5"
  }
 },
 "nbformat": 4,
 "nbformat_minor": 5
}

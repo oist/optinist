{
 "cells": [
  {
   "cell_type": "code",
   "execution_count": null,
   "id": "6e129508",
   "metadata": {},
   "outputs": [],
   "source": [
    "import os\n",
    "import numpy as np\n",
    "import matplotlib.pyplot as plt\n",
    "import yaml\n",
    "import caiman\n",
    "# import wrappers.caiman_wrapper as cm\n",
    "# import wrappers.suite2p_wrapper as s2p\n",
    "\n",
    "from caiman.source_extraction.cnmf.params import CNMFParams\n",
    "from caiman.source_extraction.cnmf import cnmf as cnmf\n",
    "from caiman.motion_correction import MotionCorrect\n",
    "\n",
    "info = {}"
   ]
  },
  {
   "cell_type": "code",
   "execution_count": null,
   "id": "8b828eed",
   "metadata": {},
   "outputs": [],
   "source": [
    "with open('../config/caiman_mc.yaml') as stream:\n",
    "    motion_opts = yaml.safe_load(stream, )\n",
    "motion_opts"
   ]
  },
  {
   "cell_type": "code",
   "execution_count": null,
   "id": "9acf8afe",
   "metadata": {},
   "outputs": [],
   "source": [
    "file_path = os.path.join(\n",
    "    '/Users', 'shogoakiyama', 'caiman_data', \n",
    "    'example_movies', 'Sue_2x_3000_40_-46.tif')"
   ]
  },
  {
   "cell_type": "markdown",
   "id": "2ee176ec",
   "metadata": {},
   "source": [
    "### 元画像"
   ]
  },
  {
   "cell_type": "code",
   "execution_count": null,
   "id": "9ff0b670",
   "metadata": {},
   "outputs": [],
   "source": [
    "import tifffile\n",
    "original_images = tifffile.imread(file_path)"
   ]
  },
  {
   "cell_type": "markdown",
   "id": "e8459487",
   "metadata": {},
   "source": [
    "### パラメータ"
   ]
  },
  {
   "cell_type": "code",
   "execution_count": null,
   "id": "dac17cc8",
   "metadata": {},
   "outputs": [],
   "source": [
    "opts = CNMFParams()\n",
    "if motion_opts is None:\n",
    "    motion_opts = opts.get_group('motion')\n",
    "    motion_opts"
   ]
  },
  {
   "cell_type": "markdown",
   "id": "8b185e45",
   "metadata": {},
   "source": [
    "### caiman motion_correction"
   ]
  },
  {
   "cell_type": "code",
   "execution_count": null,
   "id": "e762ed1f",
   "metadata": {},
   "outputs": [],
   "source": [
    "mc = MotionCorrect(file_path, dview=None, **motion_opts)\n",
    "mc.motion_correct(save_movie=True)"
   ]
  },
  {
   "cell_type": "code",
   "execution_count": null,
   "id": "befc535b",
   "metadata": {},
   "outputs": [],
   "source": [
    "info['total_template_rig'] = mc.total_template_rig\n",
    "info['shifts_rig'] = mc.shifts_rig\n",
    "info['border_to_0'] = 0 if mc.border_nan is 'copy' else mc.border_to_0\n",
    "info['mmap_file'] = mc.mmap_file"
   ]
  },
  {
   "cell_type": "code",
   "execution_count": null,
   "id": "110fa417",
   "metadata": {},
   "outputs": [],
   "source": [
    "frames = caiman.load(mc.mmap_file)\n",
    "mc_images = frames"
   ]
  },
  {
   "cell_type": "code",
   "execution_count": null,
   "id": "9e05782f",
   "metadata": {},
   "outputs": [],
   "source": [
    "mc.mmap_file"
   ]
  },
  {
   "cell_type": "code",
   "execution_count": null,
   "id": "8040b48e",
   "metadata": {},
   "outputs": [],
   "source": [
    "frames.shape"
   ]
  },
  {
   "cell_type": "code",
   "execution_count": null,
   "id": "6e1dbeeb",
   "metadata": {},
   "outputs": [],
   "source": [
    "plt.imshow(frames[0], cmap = 'gray')"
   ]
  },
  {
   "cell_type": "code",
   "execution_count": null,
   "id": "7f523849",
   "metadata": {},
   "outputs": [],
   "source": [
    "plt.imshow(frames[5], cmap = 'gray')"
   ]
  },
  {
   "cell_type": "code",
   "execution_count": null,
   "id": "d976a4f5",
   "metadata": {},
   "outputs": [],
   "source": [
    "frames[0][0][0]"
   ]
  },
  {
   "cell_type": "code",
   "execution_count": null,
   "id": "c251be1f",
   "metadata": {},
   "outputs": [],
   "source": []
  },
  {
   "cell_type": "code",
   "execution_count": null,
   "id": "656dcbc4",
   "metadata": {},
   "outputs": [],
   "source": [
    "mc.total_template_rig.shape"
   ]
  },
  {
   "cell_type": "code",
   "execution_count": null,
   "id": "756a6990",
   "metadata": {},
   "outputs": [],
   "source": [
    "# load motion corrected movie\n",
    "# m_rig = caiman.load(mc.mmap_file)\n",
    "# bord_px_rig = np.ceil(np.max(mc.shifts_rig)).astype(np.int)\n",
    "#%% visualize templates\n",
    "plt.imshow(info['total_template_rig'], cmap = 'gray')"
   ]
  },
  {
   "cell_type": "code",
   "execution_count": null,
   "id": "b0519dd2",
   "metadata": {},
   "outputs": [],
   "source": [
    "#%% plot rigid shifts\n",
    "plt.close()\n",
    "plt.figure(figsize = (20,10))\n",
    "plt.plot(info['shifts_rig'])\n",
    "plt.legend(['x shifts','y shifts'])\n",
    "plt.xlabel('frames')\n",
    "plt.ylabel('pixels')"
   ]
  },
  {
   "cell_type": "code",
   "execution_count": null,
   "id": "125a0f16",
   "metadata": {},
   "outputs": [],
   "source": []
  },
  {
   "cell_type": "markdown",
   "id": "5f60f791",
   "metadata": {},
   "source": [
    "### 解析"
   ]
  },
  {
   "cell_type": "code",
   "execution_count": null,
   "id": "6470ed34",
   "metadata": {},
   "outputs": [],
   "source": [
    "print(np.sum(original_images+296, axis=0).min())\n",
    "print(np.sum(original_images+296, axis=0).max())\n",
    "print((original_images+296).min())"
   ]
  },
  {
   "cell_type": "code",
   "execution_count": null,
   "id": "9eeef719",
   "metadata": {},
   "outputs": [],
   "source": [
    "print(np.sum(mc_images, axis=0).min())\n",
    "print(np.sum(mc_images, axis=0).max())\n",
    "print(mc_images.min())"
   ]
  },
  {
   "cell_type": "code",
   "execution_count": null,
   "id": "7a9ab518",
   "metadata": {},
   "outputs": [],
   "source": []
  }
 ],
 "metadata": {
  "kernelspec": {
   "display_name": "Python 3",
   "language": "python",
   "name": "python3"
  },
  "language_info": {
   "codemirror_mode": {
    "name": "ipython",
    "version": 3
   },
   "file_extension": ".py",
   "mimetype": "text/x-python",
   "name": "python",
   "nbconvert_exporter": "python",
   "pygments_lexer": "ipython3",
   "version": "3.9.5"
  }
 },
 "nbformat": 4,
 "nbformat_minor": 5
}

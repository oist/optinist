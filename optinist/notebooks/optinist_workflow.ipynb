{
 "cells": [
  {
   "cell_type": "code",
   "execution_count": null,
   "id": "9e326c33",
   "metadata": {},
   "outputs": [],
   "source": [
    "import sys\n",
    "sys.path.append('..')\n",
    "print(sys.path)\n",
    "import yaml\n",
    "from wrappers.data_wrapper import *\n",
    "from wrappers.suite2p_wrapper import *"
   ]
  },
  {
   "cell_type": "code",
   "execution_count": null,
   "id": "e32f82b5",
   "metadata": {},
   "outputs": [],
   "source": [
    "image = ImageData('../../backend/files/Sue_2x_3000_40_-46.tif(0)/Sue_2x_3000_40_-46.tif')\n",
    "with open('../config/suite2p_file_convert.yaml') as f:\n",
    "    params = yaml.safe_load(f)\n",
    "info = suite2p_file_convert(image, params)"
   ]
  },
  {
   "cell_type": "code",
   "execution_count": null,
   "id": "cf571565",
   "metadata": {},
   "outputs": [],
   "source": [
    "with open('../config/suite2p_registration.yaml') as f:\n",
    "    params = yaml.safe_load(f)\n",
    "info = suite2p_registration(*info.values(), params=params)"
   ]
  },
  {
   "cell_type": "code",
   "execution_count": null,
   "id": "abe99c4a",
   "metadata": {},
   "outputs": [],
   "source": [
    "with open('../config/suite2p_roi.yaml') as f:\n",
    "    params = yaml.safe_load(f)\n",
    "roi_info = suite2p_roi(*info.values(), params)"
   ]
  },
  {
   "cell_type": "code",
   "execution_count": null,
   "id": "7338fedd",
   "metadata": {},
   "outputs": [],
   "source": [
    "roi_info['F'].data"
   ]
  },
  {
   "cell_type": "code",
   "execution_count": null,
   "id": "f27ff3c0",
   "metadata": {},
   "outputs": [],
   "source": [
    "with open('../config/suite2p_spike_deconv.yaml') as f:\n",
    "    params = yaml.safe_load(f)\n",
    "spike_info = suite2p_spike_deconv(*roi_info.values(), params)"
   ]
  },
  {
   "cell_type": "code",
   "execution_count": null,
   "id": "cc87e5d9",
   "metadata": {},
   "outputs": [],
   "source": [
    "info['ops'].data['spks']"
   ]
  },
  {
   "cell_type": "code",
   "execution_count": null,
   "id": "e2d8787c",
   "metadata": {},
   "outputs": [],
   "source": []
  }
 ],
 "metadata": {
  "kernelspec": {
   "display_name": "Python 3",
   "language": "python",
   "name": "python3"
  },
  "language_info": {
   "codemirror_mode": {
    "name": "ipython",
    "version": 3
   },
   "file_extension": ".py",
   "mimetype": "text/x-python",
   "name": "python",
   "nbconvert_exporter": "python",
   "pygments_lexer": "ipython3",
   "version": "3.9.5"
  }
 },
 "nbformat": 4,
 "nbformat_minor": 5
}
